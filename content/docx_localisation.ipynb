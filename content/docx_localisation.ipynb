{
 "cells": [
  {
   "cell_type": "markdown",
   "metadata": {},
   "source": [
    "# 📕 DOCX localisation\n",
    "\n",
    "A [JupyterLite](https://jupyterlite.readthedocs.io/en/stable/index.html#) instance to automate localisation of the clinical trials documents. This notebook runs entirely on the browser. Computations, file handling, and data storage occur locally on your machine without the need to send data to a server. \n",
    "\n",
    "## How to use?\n",
    "\n",
    "1. Upload the source documents from the coordination team to the `source_documents` folder on the left. You can either drag and drop the files or use the upload icon on the top of the files section left. The files would include source docx (MS Word) files and placeholder logo.\n",
    "2. Upload site's logo and `localisation.csv` to the `localisation_information` folder. `localisation.csv` will be provided by the coordination team and you must fill out the related column.\n",
    "3. Press the `Run all` button on top of this page. Which would run the code in the cells below.\n",
    "4. Once all finished, you can download your files from `localised_documents` folder."
   ]
  },
  {
   "cell_type": "markdown",
   "metadata": {},
   "source": [
    "## Setting up the notebook"
   ]
  },
  {
   "cell_type": "markdown",
   "metadata": {},
   "source": [
    "### Package installations\n",
    "\n",
    "Due to the need of re-installation of packages this might take a while. "
   ]
  },
  {
   "cell_type": "code",
   "execution_count": null,
   "metadata": {},
   "outputs": [],
   "source": [
    "%pip install python-docx --no-deps"
   ]
  },
  {
   "cell_type": "code",
   "execution_count": null,
   "metadata": {},
   "outputs": [],
   "source": [
    "%pip install lxml"
   ]
  },
  {
   "cell_type": "code",
   "execution_count": null,
   "metadata": {},
   "outputs": [],
   "source": [
    "%pip install pillow"
   ]
  },
  {
   "cell_type": "code",
   "execution_count": null,
   "metadata": {},
   "outputs": [],
   "source": [
    "%pip install imagehash"
   ]
  },
  {
   "cell_type": "code",
   "execution_count": null,
   "metadata": {},
   "outputs": [],
   "source": [
    "print(\"Packages installed successfully!\")"
   ]
  },
  {
   "cell_type": "markdown",
   "metadata": {},
   "source": [
    "### Library imports"
   ]
  },
  {
   "cell_type": "code",
   "execution_count": null,
   "metadata": {},
   "outputs": [],
   "source": [
    "# IMPORTS\n",
    "import os\n",
    "import csv\n",
    "import json\n",
    "from docx import Document\n",
    "\n",
    "import zipfile\n",
    "import shutil\n",
    "from PIL import Image\n",
    "import imagehash"
   ]
  },
  {
   "cell_type": "code",
   "execution_count": null,
   "metadata": {},
   "outputs": [],
   "source": [
    "print(\"Libraries imported sucesfully!\")"
   ]
  },
  {
   "cell_type": "markdown",
   "metadata": {},
   "source": [
    "## Text replacements defined in `localisation.csv`\n",
    "\n",
    "This csv file holds the document names, variables in these documents, and site localisations\n",
    "\n",
    "`localisation.csv` file must follow the coordination team's structure. You are most likely to open and edit it in Excel. After you complete your amendments, save your file and drag and drop it into the `localisation_information` folder on the left side."
   ]
  },
  {
   "cell_type": "markdown",
   "metadata": {},
   "source": [
    "### Read the `localisation.csv`"
   ]
  },
  {
   "cell_type": "code",
   "execution_count": null,
   "metadata": {},
   "outputs": [],
   "source": [
    "# Define the path to your CSV file\n",
    "file_path = 'localisation_information/localisation.csv'\n",
    "\n",
    "# Create a dictionary to hold the JSON structure\n",
    "changes_json = {}\n",
    "\n",
    "# Open the CSV file and read the data\n",
    "with open(file_path, mode='r', newline='', encoding='utf-8') as file:\n",
    "    reader = csv.reader(file)\n",
    "    next(reader)  # Skip the header row\n",
    "    for document, template, localised in reader:\n",
    "        if document not in changes_json:\n",
    "            changes_json[document] = {}\n",
    "        changes_json[document][template] = localised\n",
    "\n",
    "# Output the JSON string\n",
    "# print(json_output)"
   ]
  },
  {
   "cell_type": "markdown",
   "metadata": {},
   "source": [
    "### Amend the `docx` files in `source_documents` folder and save in the `localised_documents` folder\n",
    "\n",
    "This process checks all paragraphs, tables, headers and footers. It then makes text replacements based on `localisation.csv`. \n",
    "\n",
    "The formatting of the replaced text is **not** preserved. \n",
    "\n",
    "Keep in mind that the file names are taken from the `localisation.csv`. To be able to work, csv file names must match the documents in the `source_documents` folder. --> *Update needed here*\n"
   ]
  },
  {
   "cell_type": "code",
   "execution_count": null,
   "metadata": {},
   "outputs": [],
   "source": [
    "# def replace_text_in_paragraphs(paragraphs, changes):\n",
    "#     for paragraph in paragraphs:\n",
    "#         for old_text, new_text in changes.items():\n",
    "#             if old_text in paragraph.text:\n",
    "#                 paragraph.text = paragraph.text.replace(old_text, new_text)\n",
    "\n",
    "def replace_text_in_paragraphs(paragraphs, changes):\n",
    "    for paragraph in paragraphs:\n",
    "        full_text = ''.join(run.text for run in paragraph.runs)\n",
    "        for old_text, new_text in changes.items():\n",
    "            if old_text in full_text:\n",
    "                # Replace text and rebuild paragraph\n",
    "                new_text = full_text.replace(old_text, new_text)\n",
    "                # Clear all runs\n",
    "                for run in paragraph.runs:\n",
    "                    run.text = ''\n",
    "                # Add new run with updated text\n",
    "                paragraph.add_run(new_text)\n",
    "                break  # exit after first match to avoid duplicating replacements\n",
    "\n",
    "def replace_text_in_tables(tables, changes):\n",
    "    for table in tables:\n",
    "        for row in table.rows:\n",
    "            for cell in row.cells:\n",
    "                replace_text_in_paragraphs(cell.paragraphs, changes)\n",
    "\n",
    "def replace_text_in_headers_footers(sections, changes):\n",
    "    for section in sections:\n",
    "        # Check and replace text in default header and footer\n",
    "        replace_text_in_paragraphs(section.header.paragraphs, changes)\n",
    "        replace_text_in_paragraphs(section.footer.paragraphs, changes)\n",
    "        # Check and replace text in first page header and footer if they exist\n",
    "        if section.first_page_header is not None:\n",
    "            replace_text_in_paragraphs(section.first_page_header.paragraphs, changes)\n",
    "        if section.first_page_footer is not None:\n",
    "            replace_text_in_paragraphs(section.first_page_footer.paragraphs, changes)\n",
    "        # Check and replace text in even page header and footer if they exist\n",
    "        if section.even_page_header is not None:\n",
    "            replace_text_in_paragraphs(section.even_page_header.paragraphs, changes)\n",
    "        if section.even_page_footer is not None:\n",
    "            replace_text_in_paragraphs(section.even_page_footer.paragraphs, changes)\n",
    "\n",
    "\n",
    "def ensure_directory_empty(directory):\n",
    "    if os.path.exists(directory):\n",
    "        for filename in os.listdir(directory):\n",
    "            file_path = os.path.join(directory, filename)\n",
    "            try:\n",
    "                if os.path.isfile(file_path) or os.path.islink(file_path):\n",
    "                    os.unlink(file_path)  # Removes file or link\n",
    "                elif os.path.isdir(file_path):\n",
    "                    shutil.rmtree(file_path)  # Removes directory recursively\n",
    "            except Exception as e:\n",
    "                print(f'Failed to delete {file_path}. Reason: {e}')\n",
    "    else:\n",
    "        os.makedirs(directory)  # Create the directory if it does not exist\n",
    "\n",
    "def apply_changes_to_document(changes_json, source_folder, target_folder):\n",
    "    # Ensure the target directory is empty before processing\n",
    "    ensure_directory_empty(target_folder)\n",
    "\n",
    "    for doc_path, templates in changes_json.items():\n",
    "        source_doc_path = os.path.join(source_folder, doc_path)\n",
    "        print(f\"Processing document: {source_doc_path}\")\n",
    "        doc = Document(source_doc_path)\n",
    "        \n",
    "        for template, localised in templates.items():\n",
    "            print(f\"Applying change: {template} -> {localised}\")\n",
    "            replace_text_in_paragraphs(doc.paragraphs, {template: localised})\n",
    "            replace_text_in_tables(doc.tables, {template: localised})\n",
    "            replace_text_in_headers_footers(doc.sections, {template: localised})\n",
    "        \n",
    "        modified_doc_path = os.path.join(target_folder, f'localised_{doc_path}')\n",
    "        doc.save(modified_doc_path)\n",
    "        print(f\"Saved modified document to: {modified_doc_path}\")\n",
    "\n",
    "# Executing docx amendment\n",
    "source_folder = 'source_documents'\n",
    "target_folder = 'localised_documents'\n",
    "apply_changes_to_document(changes_json, source_folder, target_folder)"
   ]
  },
  {
   "cell_type": "markdown",
   "metadata": {},
   "source": [
    "## Logo replacement\n",
    "\n",
    "Current implementation works only for a single logo. The process below uses image recongnition to identify placeholder logo in the `source_documents` folder and then replaces it with the logo in the `localisation_information` folder."
   ]
  },
  {
   "cell_type": "code",
   "execution_count": null,
   "metadata": {},
   "outputs": [],
   "source": [
    "# These imports moved up\n",
    "# import os\n",
    "# import zipfile\n",
    "# import shutil\n",
    "# from PIL import Image\n",
    "# import imagehash\n",
    "# from docx import Document\n",
    "\n",
    "def extract_images(doc_path, extract_dir):\n",
    "    \"\"\" Unzip a docx file and extract all images to a specified directory. \"\"\"\n",
    "    with zipfile.ZipFile(doc_path, 'r') as zip_ref:\n",
    "        zip_ref.extractall(extract_dir)\n",
    "    return [os.path.join(extract_dir, 'word/media', name) for name in os.listdir(os.path.join(extract_dir, 'word/media'))]\n",
    "\n",
    "def find_matching_image(images, placeholder_image_path):\n",
    "    \"\"\" Find and return the path of the image that matches the placeholder image. \"\"\"\n",
    "    placeholder_hash = imagehash.average_hash(Image.open(placeholder_image_path))\n",
    "    for image_path in images:\n",
    "        current_hash = imagehash.average_hash(Image.open(image_path))\n",
    "        if current_hash - placeholder_hash == 0:  # comparing hashes\n",
    "            return image_path\n",
    "    return None\n",
    "\n",
    "def replace_image(doc_path, image_to_replace_path, new_image_path):\n",
    "    \"\"\" Replace a specified image in the docx file with a new image. \"\"\"\n",
    "    # Extract docx to temp directory\n",
    "    temp_dir = 'temp_docx'\n",
    "    if os.path.exists(temp_dir):\n",
    "        shutil.rmtree(temp_dir)\n",
    "    os.makedirs(temp_dir)\n",
    "\n",
    "    images = extract_images(doc_path, temp_dir)\n",
    "    matching_image_path = find_matching_image(images, image_to_replace_path)\n",
    "\n",
    "    if matching_image_path:\n",
    "        # Replace the image\n",
    "        shutil.copy(new_image_path, matching_image_path)\n",
    "\n",
    "        # Repackage the DOCX\n",
    "        with zipfile.ZipFile(doc_path, 'w') as docx:\n",
    "            for root, dirs, files in os.walk(temp_dir):\n",
    "                for file in files:\n",
    "                    docx.write(os.path.join(root, file), os.path.relpath(os.path.join(root, file), temp_dir))\n",
    "    shutil.rmtree(temp_dir)  # Clean up\n",
    "\n",
    "def get_image_path(folder_path):\n",
    "    \"\"\"Finds the path of the first image file in a folder.\n",
    "\n",
    "    Args:\n",
    "        folder_path (str): The path to the folder containing the image.\n",
    "\n",
    "    Returns:\n",
    "        str: The full path to the image file, or None if no image is found.\n",
    "    \"\"\"\n",
    "\n",
    "    # Use os.scandir() for potentially better performance and resource management\n",
    "    for entry in os.scandir(folder_path):\n",
    "        if entry.is_file() and entry.name.lower().endswith((\".jpg\", \".jpeg\", \".png\", \".bmp\", \".gif\")):\n",
    "            return os.path.join(folder_path, entry.name)\n",
    "\n",
    "    return None  # No image found\n",
    "\n",
    "def list_docx_files(folder_path):\n",
    "    \"\"\"Lists all files ending with .docx in a folder.\n",
    "\n",
    "    Args:\n",
    "        folder_path (str): The path to the folder containing the files.\n",
    "\n",
    "    Returns:\n",
    "        list: A list of full paths to the .docx files, or an empty list if none are found.\n",
    "    \"\"\"\n",
    "\n",
    "    docx_paths = []\n",
    "    for entry in os.scandir(folder_path):\n",
    "        if entry.is_file() and entry.name.lower().endswith(\".docx\"):\n",
    "            docx_paths.append(os.path.join(folder_path, entry.name))\n",
    "\n",
    "    return docx_paths\n",
    "\n",
    "# Define variables and change the logo\n",
    "placeholder_logo_path = get_image_path('source_documents')\n",
    "new_logo_path = get_image_path('localisation_information')\n",
    "docx_files = list_docx_files('localised_documents')\n",
    "\n",
    "for docx in docx_files:\n",
    "    replace_image(docx, placeholder_logo_path, new_logo_path)\n",
    "\n",
    "print(\"Image replacement complete.\")\n",
    "\n",
    "# Zip the localised documents\n",
    "shutil.make_archive('localised_documents', 'zip', 'localised_documents')\n",
    "\n",
    "print(\"Localised documents zipped successfully. You can download the zip file now from the left sidebar.\")\n"
   ]
  }
 ],
 "metadata": {
  "kernelspec": {
   "display_name": "local",
   "language": "python",
   "name": "python3"
  },
  "language_info": {
   "codemirror_mode": {
    "name": "ipython",
    "version": 3
   },
   "file_extension": ".py",
   "mimetype": "text/x-python",
   "name": "python",
   "nbconvert_exporter": "python",
   "pygments_lexer": "ipython3",
   "version": "3.11.9"
  }
 },
 "nbformat": 4,
 "nbformat_minor": 2
}
